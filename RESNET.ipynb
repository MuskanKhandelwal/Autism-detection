{
 "cells": [
  {
   "cell_type": "code",
   "execution_count": 2,
   "id": "35122e33-d3fc-4e84-ae9c-75cc705a585f",
   "metadata": {},
   "outputs": [
    {
     "name": "stdout",
     "output_type": "stream",
     "text": [
      "WARNING:tensorflow:From C:\\Users\\Himanshu\\AppData\\Local\\Packages\\PythonSoftwareFoundation.Python.3.11_qbz5n2kfra8p0\\LocalCache\\local-packages\\Python311\\site-packages\\keras\\src\\losses.py:2976: The name tf.losses.sparse_softmax_cross_entropy is deprecated. Please use tf.compat.v1.losses.sparse_softmax_cross_entropy instead.\n",
      "\n"
     ]
    }
   ],
   "source": [
    "import numpy as np\n",
    "import pandas as pd\n",
    "import matplotlib.pyplot as plt\n",
    "%matplotlib inline\n",
    "\n",
    "import tensorflow as tf\n",
    "from PIL import Image\n",
    "import os\n",
    "from sklearn.model_selection import train_test_split\n",
    "from keras.utils import to_categorical\n",
    "from keras.models import Sequential\n",
    "from keras.layers import Conv2D, MaxPool2D, Dense, Flatten, Dropout\n",
    "import seaborn as sns\n",
    "from scipy.stats import mode\n",
    "from sklearn.metrics import classification_report, confusion_matrix, f1_score, accuracy_score\n"
   ]
  },
  {
   "cell_type": "markdown",
   "id": "4e864e75-5347-4e86-8ed5-78379fc3795d",
   "metadata": {},
   "source": [
    "### Image Data Preprocessing with `load_data` Function\n",
    "\n",
    "This code defines a function, `load_data`, to preprocess and load image data from a specified folder path. The function reads images, converts them to RGB, resizes them to a consistent size, normalizes pixel values, and stores them as NumPy arrays. The function returns data and labels arrays. The example usage demonstrates loading data from a folder and printing the shapes of the resulting arrays.\n"
   ]
  },
  {
   "cell_type": "code",
   "execution_count": 3,
   "id": "6f8365b1-2763-41ad-b25b-596f6cfe2916",
   "metadata": {},
   "outputs": [
    {
     "name": "stdout",
     "output_type": "stream",
     "text": [
      "(5954, 224, 224, 3) (5954,)\n"
     ]
    }
   ],
   "source": [
    "from PIL import Image\n",
    "import os\n",
    "import numpy as np\n",
    "\n",
    "def load_data(train_folder_path, target_size=(224, 224)):\n",
    "    data = []\n",
    "    labels = []\n",
    "\n",
    "    classes = os.listdir(train_folder_path)\n",
    "    \n",
    "    for i, class_name in enumerate(classes):\n",
    "        class_path = os.path.join(train_folder_path, class_name)\n",
    "        images = os.listdir(class_path)\n",
    "\n",
    "        for image in images:\n",
    "            image_path = os.path.join(class_path, image)\n",
    "            # Load the image data using PIL\n",
    "            with Image.open(image_path) as img:\n",
    "                # Convert the image to RGB\n",
    "                img = img.convert('RGB')\n",
    "                # Resize the image to a consistent size\n",
    "                img = img.resize(target_size)\n",
    "                # Convert the image to a NumPy array\n",
    "                image_data = np.array(img)\n",
    "                image_data = image_data/255\n",
    "            \n",
    "            # Append image data and label to lists\n",
    "            data.append(image_data)\n",
    "            labels.append(i)\n",
    "\n",
    "    data = np.array(data)\n",
    "    labels = np.array(labels)\n",
    "    print(data.shape, labels.shape)\n",
    "    return data, labels\n",
    "\n",
    "# Example usage\n",
    "train_folder_path = \"C:\\\\Users\\\\Himanshu\\\\Desktop\\\\SML_CNN\\\\final_dataset\"\n",
    "data, labels = load_data(train_folder_path)\n"
   ]
  },
  {
   "cell_type": "markdown",
   "id": "9455bf50-c7ca-4aa0-8bd5-926f8252b982",
   "metadata": {},
   "source": [
    "### Loading and Splitting Image Data\n",
    "\n",
    "This code snippet loads image data from a specified folder path, prints the shapes of the data and labels, and performs a train-test split using `train_test_split` from scikit-learn. The resulting shapes of the training and testing datasets are then printed in bold.\n"
   ]
  },
  {
   "cell_type": "code",
   "execution_count": 4,
   "id": "43fb0f76-ee2a-4d25-b38c-27bc455fda5b",
   "metadata": {},
   "outputs": [
    {
     "name": "stdout",
     "output_type": "stream",
     "text": [
      "(5954, 224, 224, 3) (5954,)\n",
      "(4167, 224, 224, 3) (1787, 224, 224, 3) (4167,) (1787,)\n"
     ]
    }
   ],
   "source": [
    "print(data.shape, labels.shape)\n",
    "#Splitting training and testing dataset\n",
    "X_train, X_test, y_train, y_test = train_test_split(data, labels, test_size=0.3, random_state=10)\n",
    "print(X_train.shape, X_test.shape, y_train.shape, y_test.shape)"
   ]
  },
  {
   "cell_type": "markdown",
   "id": "f7520ebe-d01e-4fa8-9398-614a8ca0941f",
   "metadata": {},
   "source": [
    "### Fine-tuning with ResNet50 for Image Classification\n",
    "\n",
    "This code employs transfer learning using the pre-trained ResNet50 model for image classification. The key steps include:\n",
    "\n",
    "1. **Load Pre-trained ResNet50 Model:**\n",
    "   - Utilizes the ResNet50 model pre-trained on ImageNet, excluding the top layers for feature extraction.\n",
    "\n",
    "2. **Unfreeze Layers for Fine-tuning:**\n",
    "   - Unfreezes the last few layers of the ResNet50 model to allow for fine-tuning.\n",
    "\n",
    "3. **Create New Sequential Model:**\n",
    "   - Constructs a new Sequential model and adds the pre-trained ResNet50 as its base.\n",
    "\n",
    "4. **Resize Input Images:**\n",
    "   - Implements a resize function to preprocess input images, ensuring compatibility with the ResNet50 model's input shape.\n",
    "\n",
    "5. **Flatten and Add Fully Connected Layers:**\n",
    "   - Introduces a Flatten layer followed by fully connected layers for classification.\n",
    "\n",
    "6. **Compile the Model:**\n",
    "   - Compiles the model with binary crossentropy loss, Adam optimizer, and accuracy as the evaluation metric.\n"
   ]
  },
  {
   "cell_type": "code",
   "execution_count": 10,
   "id": "8dda12af-4c22-4caa-a39f-27b96afb0368",
   "metadata": {},
   "outputs": [],
   "source": [
    "from keras.applications import ResNet50\n",
    "from keras.models import Sequential\n",
    "from keras.layers import Dense, Dropout, Flatten\n",
    "from skimage.transform import resize\n",
    "\n",
    "# Load the pre-trained ResNet50 model (excluding the top layers)\n",
    "resnet_model = ResNet50(weights='imagenet', include_top=False, input_shape=(224, 224, 3))\n",
    "\n",
    "# Unfreeze the last few layers for fine-tuning\n",
    "for layer in resnet_model.layers[:-10]:\n",
    "    layer.trainable = True\n",
    "\n",
    "\n",
    "# Create a new model\n",
    "model = Sequential()\n",
    "\n",
    "# Add the pre-trained ResNet50 model\n",
    "model.add(resnet_model)\n",
    "\n",
    "# Resize function\n",
    "def preprocess_input(img):\n",
    "    img = resize(img, (224, 224, 3))\n",
    "    return img\n",
    "\n",
    "# Apply resize function to input images\n",
    "X_train_resized = np.array([preprocess_input(img) for img in X_train])\n",
    "X_test_resized = np.array([preprocess_input(img) for img in X_test])\n",
    "\n",
    "# Flatten layer\n",
    "model.add(Flatten())\n",
    "\n",
    "# Fully Connected Layers\n",
    "model.add(Dense(512, activation='relu'))\n",
    "model.add(Dropout(0.5))\n",
    "\n",
    "# Output Layer\n",
    "model.add(Dense(1, activation='sigmoid'))\n",
    "\n",
    "# Compile the model\n",
    "model.compile(loss='binary_crossentropy', optimizer='adam', metrics=['accuracy'])\n"
   ]
  },
  {
   "cell_type": "code",
   "execution_count": 11,
   "id": "db4c6627-c711-4e44-9f9a-65ff59529c22",
   "metadata": {},
   "outputs": [
    {
     "name": "stdout",
     "output_type": "stream",
     "text": [
      "Epoch 1/10\n",
      "131/131 [==============================] - 826s 6s/step - loss: 2.1874 - accuracy: 0.6808 - val_loss: 1.4192 - val_accuracy: 0.4930\n",
      "Epoch 2/10\n",
      "131/131 [==============================] - 719s 5s/step - loss: 0.4663 - accuracy: 0.7833 - val_loss: 5.7004 - val_accuracy: 0.4930\n",
      "Epoch 3/10\n",
      "131/131 [==============================] - 732s 6s/step - loss: 0.3531 - accuracy: 0.8560 - val_loss: 5.5440 - val_accuracy: 0.4930\n",
      "Epoch 4/10\n",
      "131/131 [==============================] - 730s 6s/step - loss: 0.2780 - accuracy: 0.8906 - val_loss: 0.9737 - val_accuracy: 0.4930\n",
      "Epoch 5/10\n",
      "131/131 [==============================] - 733s 6s/step - loss: 0.2513 - accuracy: 0.9028 - val_loss: 1.0720 - val_accuracy: 0.4941\n",
      "Epoch 6/10\n",
      "131/131 [==============================] - 729s 6s/step - loss: 0.2092 - accuracy: 0.9222 - val_loss: 2.6690 - val_accuracy: 0.5260\n",
      "Epoch 7/10\n",
      "131/131 [==============================] - 731s 6s/step - loss: 0.1533 - accuracy: 0.9426 - val_loss: 0.9988 - val_accuracy: 0.6637\n",
      "Epoch 8/10\n",
      "131/131 [==============================] - 731s 6s/step - loss: 0.1877 - accuracy: 0.9273 - val_loss: 1.8195 - val_accuracy: 0.6407\n",
      "Epoch 9/10\n",
      "131/131 [==============================] - 722s 6s/step - loss: 0.1637 - accuracy: 0.9453 - val_loss: 0.3894 - val_accuracy: 0.8282\n",
      "Epoch 10/10\n",
      "131/131 [==============================] - 716s 5s/step - loss: 0.1353 - accuracy: 0.9489 - val_loss: 0.5289 - val_accuracy: 0.8467\n"
     ]
    },
    {
     "name": "stderr",
     "output_type": "stream",
     "text": [
      "C:\\Users\\Himanshu\\AppData\\Local\\Packages\\PythonSoftwareFoundation.Python.3.11_qbz5n2kfra8p0\\LocalCache\\local-packages\\Python311\\site-packages\\keras\\src\\engine\\training.py:3103: UserWarning: You are saving your model as an HDF5 file via `model.save()`. This file format is considered legacy. We recommend using instead the native Keras format, e.g. `model.save('my_model.keras')`.\n",
      "  saving_api.save_model(\n"
     ]
    }
   ],
   "source": [
    "epochs = 10\n",
    "history = model.fit(X_train, y_train, batch_size=32, epochs=epochs, validation_data=(X_test, y_test))\n",
    "model.save(\"my_model122.h5\")"
   ]
  },
  {
   "cell_type": "markdown",
   "id": "5f75fdf4-9ff4-49a9-8acc-4bb9683411dc",
   "metadata": {},
   "source": [
    "### Model Evaluation\n",
    "\n",
    "The code predicts labels (`y_pred`) and probabilities (`y_pred_prob`) using the trained model on the test set. The following evaluations are performed:\n",
    "\n",
    "1. **Accuracy Calculation:**\n",
    "   - Accuracy is computed using the predicted and actual labels on the test set.\n",
    "\n",
    "2. **Classification Report:**\n",
    "   - Displays precision, recall, and F1-score for each class.\n",
    "\n",
    "3. **Confusion Matrix:**\n",
    "   - Generates a confusion matrix with annotated values, providing insights into true and predicted values.\n",
    "\n",
    "4. **F1 Score:**\n",
    "   - Computes the F1 score as an additional performance metric."
   ]
  },
  {
   "cell_type": "code",
   "execution_count": 15,
   "id": "6c6d51bc-3f63-4a88-b171-15b44f131f6d",
   "metadata": {},
   "outputs": [
    {
     "name": "stdout",
     "output_type": "stream",
     "text": [
      "56/56 [==============================] - 87s 2s/step\n",
      "Model Accuracy on Test Set: 0.846670397313934\n",
      "\n",
      " Classification report : \n",
      "               precision    recall  f1-score   support\n",
      "\n",
      "           0       0.79      0.94      0.86       906\n",
      "           1       0.92      0.75      0.83       881\n",
      "\n",
      "    accuracy                           0.85      1787\n",
      "   macro avg       0.86      0.85      0.84      1787\n",
      "weighted avg       0.86      0.85      0.85      1787\n",
      "\n",
      "Accuracy   Score :  0.846670397313934\n",
      "F1 Score:  0.8283208020050125\n"
     ]
    },
    {
     "data": {
      "image/png": "[encoded data removed]",
      "text/plain": [
       "<Figure size 1200x1200 with 2 Axes>"
      ]
     },
     "metadata": {},
     "output_type": "display_data"
    }
   ],
   "source": [
    "\n",
    "y_pred_prob = model.predict(X_test)\n",
    "\n",
    "y_pred = (y_pred_prob > 0.5).astype(int)\n",
    " \n",
    "# Evaluate the model\n",
    "\n",
    "accuracy = accuracy_score(y_test, y_pred)\n",
    "\n",
    "print(f'Model Accuracy on Test Set: {accuracy}')\n",
    " \n",
    "print (\"\\n Classification report : \\n\",classification_report (y_test, y_pred))\n",
    "\n",
    "print (\"Accuracy   Score : \",accuracy_score (y_test, y_pred))\n",
    " \n",
    "#Generate confusion-matrix as below\n",
    "\n",
    "conf_matrix = confusion_matrix (y_test, y_pred)\n",
    "\n",
    "plt.figure (figsize=(12,12))\n",
    "\n",
    "plt.subplot (221)\n",
    "\n",
    "sns.heatmap (conf_matrix, fmt = \"d\", annot=True, cmap='Blues')\n",
    "\n",
    "b, t = plt.ylim()\n",
    "\n",
    "plt.ylim (b + 0.5, t - 0.5)\n",
    "\n",
    "plt.ylabel ('True Values')\n",
    "\n",
    "plt.title ('Confusion Matrix')\n",
    "\n",
    "plt.xlabel ('Predicted Values')\n",
    " \n",
    "#Generate F1-score as below\n",
    "\n",
    "f1 = f1_score (y_test, y_pred)\n",
    "\n",
    "print (\"F1 Score: \", f1)"
   ]
  },
  {
   "cell_type": "markdown",
   "id": "287888a6-4c4f-4eb6-a45d-6ba0afbe6ab4",
   "metadata": {},
   "source": [
    "### Summary\n",
    "\r",
    "This Notebooke implements transfer learning using the ResNet50 model pre-trained on ImageNet for image classification. The pre-trained ResNet50 is incorporated into a new Sequential model with unfrozen last layers for fine-tuning. Input images are resized, and the model is extended with a Flatten layer, followed by fully connected layers. The final model is compiled with binary crossentropy loss and the Adam optimizer. This approach leverages the powerful feature extraction capabilities of ResNet50, enabling effective image classification with the flexibility to fine-tune model parameters."
   ]
  },
  {
   "cell_type": "code",
   "execution_count": null,
   "id": "6c7854ec-c62f-45d6-9d84-10a0ccbef78c",
   "metadata": {},
   "outputs": [],
   "source": []
  }
 ],
 "metadata": {
  "kernelspec": {
   "display_name": "Python 3 (ipykernel)",
   "language": "python",
   "name": "python3"
  },
  "language_info": {
   "codemirror_mode": {
    "name": "ipython",
    "version": 3
   },
   "file_extension": ".py",
   "mimetype": "text/x-python",
   "name": "python",
   "nbconvert_exporter": "python",
   "pygments_lexer": "ipython3",
   "version": "3.11.7"
  }
 },
 "nbformat": 4,
 "nbformat_minor": 5
}

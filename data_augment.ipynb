{
 "cells": [
  {
   "cell_type": "code",
   "execution_count": 9,
   "metadata": {},
   "outputs": [
    {
     "name": "stdout",
     "output_type": "stream",
     "text": [
      "Defaulting to user installation because normal site-packages is not writeable\n",
      "Requirement already satisfied: tensorflow in /Users/muskankhandelwal/Library/Python/3.9/lib/python/site-packages (2.14.0)\n",
      "Requirement already satisfied: tensorflow-macos==2.14.0 in /Users/muskankhandelwal/Library/Python/3.9/lib/python/site-packages (from tensorflow) (2.14.0)\n",
      "Requirement already satisfied: absl-py>=1.0.0 in /Users/muskankhandelwal/Library/Python/3.9/lib/python/site-packages (from tensorflow-macos==2.14.0->tensorflow) (2.0.0)\n",
      "Requirement already satisfied: astunparse>=1.6.0 in /Users/muskankhandelwal/Library/Python/3.9/lib/python/site-packages (from tensorflow-macos==2.14.0->tensorflow) (1.6.3)\n",
      "Requirement already satisfied: flatbuffers>=23.5.26 in /Users/muskankhandelwal/Library/Python/3.9/lib/python/site-packages (from tensorflow-macos==2.14.0->tensorflow) (23.5.26)\n",
      "Requirement already satisfied: gast!=0.5.0,!=0.5.1,!=0.5.2,>=0.2.1 in /Users/muskankhandelwal/Library/Python/3.9/lib/python/site-packages (from tensorflow-macos==2.14.0->tensorflow) (0.5.4)\n",
      "Requirement already satisfied: google-pasta>=0.1.1 in /Users/muskankhandelwal/Library/Python/3.9/lib/python/site-packages (from tensorflow-macos==2.14.0->tensorflow) (0.2.0)\n",
      "Requirement already satisfied: h5py>=2.9.0 in /Users/muskankhandelwal/Library/Python/3.9/lib/python/site-packages (from tensorflow-macos==2.14.0->tensorflow) (3.10.0)\n",
      "Requirement already satisfied: libclang>=13.0.0 in /Users/muskankhandelwal/Library/Python/3.9/lib/python/site-packages (from tensorflow-macos==2.14.0->tensorflow) (16.0.6)\n",
      "Requirement already satisfied: ml-dtypes==0.2.0 in /Users/muskankhandelwal/Library/Python/3.9/lib/python/site-packages (from tensorflow-macos==2.14.0->tensorflow) (0.2.0)\n",
      "Requirement already satisfied: numpy>=1.23.5 in /Users/muskankhandelwal/Library/Python/3.9/lib/python/site-packages (from tensorflow-macos==2.14.0->tensorflow) (1.26.1)\n",
      "Requirement already satisfied: opt-einsum>=2.3.2 in /Users/muskankhandelwal/Library/Python/3.9/lib/python/site-packages (from tensorflow-macos==2.14.0->tensorflow) (3.3.0)\n",
      "Requirement already satisfied: packaging in /Users/muskankhandelwal/Library/Python/3.9/lib/python/site-packages (from tensorflow-macos==2.14.0->tensorflow) (23.2)\n",
      "Requirement already satisfied: protobuf!=4.21.0,!=4.21.1,!=4.21.2,!=4.21.3,!=4.21.4,!=4.21.5,<5.0.0dev,>=3.20.3 in /Users/muskankhandelwal/Library/Python/3.9/lib/python/site-packages (from tensorflow-macos==2.14.0->tensorflow) (4.21.12)\n",
      "Requirement already satisfied: setuptools in /Library/Developer/CommandLineTools/Library/Frameworks/Python3.framework/Versions/3.9/lib/python3.9/site-packages (from tensorflow-macos==2.14.0->tensorflow) (58.0.4)\n",
      "Requirement already satisfied: six>=1.12.0 in /Library/Developer/CommandLineTools/Library/Frameworks/Python3.framework/Versions/3.9/lib/python3.9/site-packages (from tensorflow-macos==2.14.0->tensorflow) (1.15.0)\n",
      "Requirement already satisfied: termcolor>=1.1.0 in /Users/muskankhandelwal/Library/Python/3.9/lib/python/site-packages (from tensorflow-macos==2.14.0->tensorflow) (2.3.0)\n",
      "Requirement already satisfied: typing-extensions>=3.6.6 in /Users/muskankhandelwal/Library/Python/3.9/lib/python/site-packages (from tensorflow-macos==2.14.0->tensorflow) (4.8.0)\n",
      "Requirement already satisfied: wrapt<1.15,>=1.11.0 in /Users/muskankhandelwal/Library/Python/3.9/lib/python/site-packages (from tensorflow-macos==2.14.0->tensorflow) (1.14.1)\n",
      "Requirement already satisfied: tensorflow-io-gcs-filesystem>=0.23.1 in /Users/muskankhandelwal/Library/Python/3.9/lib/python/site-packages (from tensorflow-macos==2.14.0->tensorflow) (0.34.0)\n",
      "Requirement already satisfied: grpcio<2.0,>=1.24.3 in /Users/muskankhandelwal/Library/Python/3.9/lib/python/site-packages (from tensorflow-macos==2.14.0->tensorflow) (1.59.2)\n",
      "Requirement already satisfied: tensorboard<2.15,>=2.14 in /Users/muskankhandelwal/Library/Python/3.9/lib/python/site-packages (from tensorflow-macos==2.14.0->tensorflow) (2.14.1)\n",
      "Requirement already satisfied: tensorflow-estimator<2.15,>=2.14.0 in /Users/muskankhandelwal/Library/Python/3.9/lib/python/site-packages (from tensorflow-macos==2.14.0->tensorflow) (2.14.0)\n",
      "Requirement already satisfied: keras<2.15,>=2.14.0 in /Users/muskankhandelwal/Library/Python/3.9/lib/python/site-packages (from tensorflow-macos==2.14.0->tensorflow) (2.14.0)\n",
      "Requirement already satisfied: wheel<1.0,>=0.23.0 in /Library/Developer/CommandLineTools/Library/Frameworks/Python3.framework/Versions/3.9/lib/python3.9/site-packages (from astunparse>=1.6.0->tensorflow-macos==2.14.0->tensorflow) (0.37.0)\n",
      "Requirement already satisfied: google-auth<3,>=1.6.3 in /Users/muskankhandelwal/Library/Python/3.9/lib/python/site-packages (from tensorboard<2.15,>=2.14->tensorflow-macos==2.14.0->tensorflow) (2.23.4)\n",
      "Requirement already satisfied: google-auth-oauthlib<1.1,>=0.5 in /Users/muskankhandelwal/Library/Python/3.9/lib/python/site-packages (from tensorboard<2.15,>=2.14->tensorflow-macos==2.14.0->tensorflow) (1.0.0)\n",
      "Requirement already satisfied: markdown>=2.6.8 in /Users/muskankhandelwal/Library/Python/3.9/lib/python/site-packages (from tensorboard<2.15,>=2.14->tensorflow-macos==2.14.0->tensorflow) (3.5.1)\n",
      "Requirement already satisfied: requests<3,>=2.21.0 in /Users/muskankhandelwal/Library/Python/3.9/lib/python/site-packages (from tensorboard<2.15,>=2.14->tensorflow-macos==2.14.0->tensorflow) (2.31.0)\n",
      "Requirement already satisfied: tensorboard-data-server<0.8.0,>=0.7.0 in /Users/muskankhandelwal/Library/Python/3.9/lib/python/site-packages (from tensorboard<2.15,>=2.14->tensorflow-macos==2.14.0->tensorflow) (0.7.2)\n",
      "Requirement already satisfied: werkzeug>=1.0.1 in /Users/muskankhandelwal/Library/Python/3.9/lib/python/site-packages (from tensorboard<2.15,>=2.14->tensorflow-macos==2.14.0->tensorflow) (3.0.1)\n",
      "Requirement already satisfied: cachetools<6.0,>=2.0.0 in /Users/muskankhandelwal/Library/Python/3.9/lib/python/site-packages (from google-auth<3,>=1.6.3->tensorboard<2.15,>=2.14->tensorflow-macos==2.14.0->tensorflow) (5.3.2)\n",
      "Requirement already satisfied: pyasn1-modules>=0.2.1 in /Users/muskankhandelwal/Library/Python/3.9/lib/python/site-packages (from google-auth<3,>=1.6.3->tensorboard<2.15,>=2.14->tensorflow-macos==2.14.0->tensorflow) (0.3.0)\n",
      "Requirement already satisfied: rsa<5,>=3.1.4 in /Users/muskankhandelwal/Library/Python/3.9/lib/python/site-packages (from google-auth<3,>=1.6.3->tensorboard<2.15,>=2.14->tensorflow-macos==2.14.0->tensorflow) (4.9)\n",
      "Requirement already satisfied: requests-oauthlib>=0.7.0 in /Users/muskankhandelwal/Library/Python/3.9/lib/python/site-packages (from google-auth-oauthlib<1.1,>=0.5->tensorboard<2.15,>=2.14->tensorflow-macos==2.14.0->tensorflow) (1.3.1)\n",
      "Requirement already satisfied: importlib-metadata>=4.4 in /Users/muskankhandelwal/Library/Python/3.9/lib/python/site-packages (from markdown>=2.6.8->tensorboard<2.15,>=2.14->tensorflow-macos==2.14.0->tensorflow) (6.8.0)\n",
      "Requirement already satisfied: charset-normalizer<4,>=2 in /Users/muskankhandelwal/Library/Python/3.9/lib/python/site-packages (from requests<3,>=2.21.0->tensorboard<2.15,>=2.14->tensorflow-macos==2.14.0->tensorflow) (3.3.1)\n",
      "Requirement already satisfied: idna<4,>=2.5 in /Users/muskankhandelwal/Library/Python/3.9/lib/python/site-packages (from requests<3,>=2.21.0->tensorboard<2.15,>=2.14->tensorflow-macos==2.14.0->tensorflow) (3.4)\n",
      "Requirement already satisfied: urllib3<3,>=1.21.1 in /Users/muskankhandelwal/Library/Python/3.9/lib/python/site-packages (from requests<3,>=2.21.0->tensorboard<2.15,>=2.14->tensorflow-macos==2.14.0->tensorflow) (2.0.7)\n",
      "Requirement already satisfied: certifi>=2017.4.17 in /Users/muskankhandelwal/Library/Python/3.9/lib/python/site-packages (from requests<3,>=2.21.0->tensorboard<2.15,>=2.14->tensorflow-macos==2.14.0->tensorflow) (2023.7.22)\n",
      "Requirement already satisfied: MarkupSafe>=2.1.1 in /Users/muskankhandelwal/Library/Python/3.9/lib/python/site-packages (from werkzeug>=1.0.1->tensorboard<2.15,>=2.14->tensorflow-macos==2.14.0->tensorflow) (2.1.3)\n",
      "Requirement already satisfied: zipp>=0.5 in /Users/muskankhandelwal/Library/Python/3.9/lib/python/site-packages (from importlib-metadata>=4.4->markdown>=2.6.8->tensorboard<2.15,>=2.14->tensorflow-macos==2.14.0->tensorflow) (3.17.0)\n",
      "Requirement already satisfied: pyasn1<0.6.0,>=0.4.6 in /Users/muskankhandelwal/Library/Python/3.9/lib/python/site-packages (from pyasn1-modules>=0.2.1->google-auth<3,>=1.6.3->tensorboard<2.15,>=2.14->tensorflow-macos==2.14.0->tensorflow) (0.5.0)\n",
      "Requirement already satisfied: oauthlib>=3.0.0 in /Users/muskankhandelwal/Library/Python/3.9/lib/python/site-packages (from requests-oauthlib>=0.7.0->google-auth-oauthlib<1.1,>=0.5->tensorboard<2.15,>=2.14->tensorflow-macos==2.14.0->tensorflow) (3.2.2)\n",
      "Note: you may need to restart the kernel to use updated packages.\n"
     ]
    }
   ],
   "source": [
    "pip install tensorflow\n"
   ]
  },
  {
   "cell_type": "code",
   "execution_count": 32,
   "metadata": {},
   "outputs": [
    {
     "name": "stdout",
     "output_type": "stream",
     "text": [
      "Total number of files: 2977\n"
     ]
    }
   ],
   "source": [
    "import os\n",
    "\n",
    "# Path to the directory containing your images\n",
    "folder_path = '/Users/muskankhandelwal/Documents/SML/final_dataset_final/Autistic/'\n",
    "\n",
    "# Get a list of all files in the directory\n",
    "files = os.listdir(folder_path)\n",
    "\n",
    "# Count the number of files\n",
    "num_files = len(files)\n",
    "\n",
    "print(f'Total number of files: {num_files}')\n"
   ]
  },
  {
   "cell_type": "code",
   "execution_count": 33,
   "metadata": {},
   "outputs": [
    {
     "name": "stdout",
     "output_type": "stream",
     "text": [
      "Total number of files: 2977\n"
     ]
    }
   ],
   "source": [
    "import os\n",
    "\n",
    "# Path to the directory containing your images\n",
    "folder_path = '/Users/muskankhandelwal/Documents/SML/final_dataset_final/Non_Autistic/'\n",
    "\n",
    "# Get a list of all files in the directory\n",
    "files = os.listdir(folder_path)\n",
    "\n",
    "# Count the number of files\n",
    "num_files = len(files)\n",
    "\n",
    "print(f'Total number of files: {num_files}')\n"
   ]
  },
  {
   "cell_type": "code",
   "execution_count": 34,
   "metadata": {},
   "outputs": [],
   "source": [
    "import os\n",
    "import numpy as np\n",
    "from PIL import Image, UnidentifiedImageError, ImageFile\n",
    "from tensorflow.keras.preprocessing.image import ImageDataGenerator, img_to_array, load_img\n",
    "\n",
    "# Path to the directory containing your autistic images\n",
    "#data_dir = \"/Users/muskankhandelwal/Documents/SML/Finaldatatest/consolidated/Autistic/\"\n",
    "\n",
    "data_dir = \"/Users/muskankhandelwal/Documents/SML/final_dataset_final/Autistic/\"\n",
    "\n",
    "\n",
    "# Create an ImageDataGenerator instance with augmentation parameters\n",
    "datagen = ImageDataGenerator(\n",
    "    zoom_range=0.2,  # Zoom augmentation\n",
    "    horizontal_flip=True,  # Horizontal flip augmentation\n",
    "    brightness_range=[0.5, 1.5]  # Brightness augmentation\n",
    ")\n",
    "\n",
    "# List all image files in the directory\n",
    "files = os.listdir(data_dir)\n",
    "\n",
    "# Process each image and generate augmented versions\n",
    "for file in files:\n",
    "    try:\n",
    "        img = load_img(os.path.join(data_dir, file))\n",
    "        x = img_to_array(img)\n",
    "        x = x.reshape((1,) + x.shape)  # Reshape for flow method\n",
    "        i = 0\n",
    "        for batch in datagen.flow(x, batch_size=1, save_to_dir='/Users/muskankhandelwal/Documents/SML/final_dataset_final/Autistic/', save_prefix='aug', save_format='jpg'):\n",
    "            i += 1\n",
    "            if i >= 3:  # Generate 3 augmented images per original image\n",
    "                break\n",
    "    except (UnidentifiedImageError, OSError, Image.DecompressionBombError) as e:\n",
    "        print(f\"Error processing {file}: {e}\")"
   ]
  },
  {
   "cell_type": "code",
   "execution_count": 36,
   "metadata": {},
   "outputs": [],
   "source": [
    "import os\n",
    "import numpy as np\n",
    "from PIL import Image, UnidentifiedImageError, ImageFile\n",
    "from tensorflow.keras.preprocessing.image import ImageDataGenerator, img_to_array, load_img\n",
    "\n",
    "# Path to the directory containing your autistic images\n",
    "#data_dir = \"/Users/muskankhandelwal/Documents/SML/Finaldatatest/consolidated/Autistic/\"\n",
    "\n",
    "data_dir = \"/Users/muskankhandelwal/Documents/SML/final_dataset_final/Non_Autistic/\"\n",
    "\n",
    "\n",
    "# Create an ImageDataGenerator instance with augmentation parameters\n",
    "datagen = ImageDataGenerator(\n",
    "    zoom_range=0.2,  # Zoom augmentation\n",
    "    horizontal_flip=True,  # Horizontal flip augmentation\n",
    "    brightness_range=[0.5, 1.5]  # Brightness augmentation\n",
    ")\n",
    "\n",
    "# List all image files in the directory\n",
    "files = os.listdir(data_dir)\n",
    "\n",
    "# Process each image and generate augmented versions\n",
    "for file in files:\n",
    "    try:\n",
    "        img = load_img(os.path.join(data_dir, file))\n",
    "        x = img_to_array(img)\n",
    "        x = x.reshape((1,) + x.shape)  # Reshape for flow method\n",
    "        i = 0\n",
    "        for batch in datagen.flow(x, batch_size=1, save_to_dir='/Users/muskankhandelwal/Documents/SML/final_dataset_final/Non_Autistic/', save_prefix='aug', save_format='jpg'):\n",
    "            i += 1\n",
    "            if i >= 3:  # Generate 3 augmented images per original image\n",
    "                break\n",
    "    except (UnidentifiedImageError, OSError, Image.DecompressionBombError) as e:\n",
    "        print(f\"Error processing {file}: {e}\")"
   ]
  },
  {
   "cell_type": "code",
   "execution_count": 38,
   "metadata": {},
   "outputs": [
    {
     "name": "stdout",
     "output_type": "stream",
     "text": [
      "Total number of files: 8879\n"
     ]
    }
   ],
   "source": [
    "import os\n",
    "\n",
    "# Path to the directory containing your images\n",
    "folder_path = '/Users/muskankhandelwal/Documents/SML/final_dataset_final/Autistic/'\n",
    "\n",
    "# Get a list of all files in the directory\n",
    "files = os.listdir(folder_path)\n",
    "\n",
    "# Count the number of files\n",
    "num_files = len(files)\n",
    "\n",
    "print(f'Total number of files: {num_files}')\n"
   ]
  },
  {
   "cell_type": "code",
   "execution_count": 37,
   "metadata": {},
   "outputs": [
    {
     "name": "stdout",
     "output_type": "stream",
     "text": [
      "Total number of files: 8844\n"
     ]
    }
   ],
   "source": [
    "import os\n",
    "\n",
    "# Path to the directory containing your images\n",
    "folder_path = '/Users/muskankhandelwal/Documents/SML/final_dataset_final/Non_Autistic/'\n",
    "\n",
    "# Get a list of all files in the directory\n",
    "files = os.listdir(folder_path)\n",
    "\n",
    "# Count the number of files\n",
    "num_files = len(files)\n",
    "\n",
    "print(f'Total number of files: {num_files}')\n"
   ]
  }
 ],
 "metadata": {
  "kernelspec": {
   "display_name": "Python 3",
   "language": "python",
   "name": "python3"
  },
  "language_info": {
   "codemirror_mode": {
    "name": "ipython",
    "version": 3
   },
   "file_extension": ".py",
   "mimetype": "text/x-python",
   "name": "python",
   "nbconvert_exporter": "python",
   "pygments_lexer": "ipython3",
   "version": "3.9.6"
  },
  "orig_nbformat": 4
 },
 "nbformat": 4,
 "nbformat_minor": 2
}
